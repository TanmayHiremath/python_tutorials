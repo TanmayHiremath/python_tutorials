{
 "cells": [
  {
   "cell_type": "code",
   "execution_count": 7,
   "metadata": {},
   "outputs": [
    {
     "name": "stdout",
     "output_type": "stream",
     "text": [
      "hi\n"
     ]
    }
   ],
   "source": [
    "print('hi')\n",
    "#Ctrl Enter to execute code in cell"
   ]
  },
  {
   "cell_type": "code",
   "execution_count": 8,
   "metadata": {},
   "outputs": [
    {
     "name": "stdout",
     "output_type": "stream",
     "text": [
      "Five is greater than two!\n"
     ]
    }
   ],
   "source": [
    "#python indentation\n",
    "if 5 > 2:\n",
    "  if 1:\n",
    "    print(\"Five is greater than two!\")\n",
    "#Ctrl Shift P-> Convert indentation to spaces if you have a file that has both spaces and tabs and it is giving error"
   ]
  },
  {
   "cell_type": "code",
   "execution_count": 11,
   "metadata": {},
   "outputs": [
    {
     "name": "stdout",
     "output_type": "stream",
     "text": [
      "1\n",
      "hello\n",
      "True\n",
      "1.2\n"
     ]
    }
   ],
   "source": [
    "#python data types\n",
    "a = 1\n",
    "print(a) #int\n",
    "a = \"hello\"\n",
    "print(a) #string\n",
    "a = True\n",
    "print(a) #boolean\n",
    "a = 1.2\n",
    "print(a) #float\n"
   ]
  },
  {
   "cell_type": "code",
   "execution_count": 3,
   "metadata": {},
   "outputs": [
    {
     "name": "stdout",
     "output_type": "stream",
     "text": [
      "[1, 2, 'tree', True]\n",
      "(1, 2, 'tree', True)\n"
     ]
    }
   ],
   "source": [
    "#python list\n",
    "a = [1,2,\"tree\", True]\n",
    "print(a)\n",
    "#python tuple\n",
    "a = (1,2,\"tree\", True)\n",
    "print(a)\n",
    "# this is a comment"
   ]
  },
  {
   "cell_type": "code",
   "execution_count": 18,
   "metadata": {},
   "outputs": [
    {
     "name": "stdout",
     "output_type": "stream",
     "text": [
      "1\n",
      "3\n",
      "3\n"
     ]
    },
    {
     "ename": "ValueError",
     "evalue": "invalid literal for int() with base 10: 'hello'",
     "output_type": "error",
     "traceback": [
      "\u001b[0;31m---------------------------------------------------------------------------\u001b[0m",
      "\u001b[0;31mValueError\u001b[0m                                Traceback (most recent call last)",
      "\u001b[1;32m/home/mochi/python_tutorial/day1.ipynb Cell 5\u001b[0m line \u001b[0;36m8\n\u001b[1;32m      <a href='vscode-notebook-cell://wsl%2Bubuntu-20.04/home/mochi/python_tutorial/day1.ipynb#W6sdnNjb2RlLXJlbW90ZQ%3D%3D?line=5'>6</a>\u001b[0m \u001b[39mprint\u001b[39m(\u001b[39mint\u001b[39m(a))\n\u001b[1;32m      <a href='vscode-notebook-cell://wsl%2Bubuntu-20.04/home/mochi/python_tutorial/day1.ipynb#W6sdnNjb2RlLXJlbW90ZQ%3D%3D?line=6'>7</a>\u001b[0m a \u001b[39m=\u001b[39m \u001b[39m\"\u001b[39m\u001b[39mhello\u001b[39m\u001b[39m\"\u001b[39m\n\u001b[0;32m----> <a href='vscode-notebook-cell://wsl%2Bubuntu-20.04/home/mochi/python_tutorial/day1.ipynb#W6sdnNjb2RlLXJlbW90ZQ%3D%3D?line=7'>8</a>\u001b[0m \u001b[39mprint\u001b[39m(\u001b[39mint\u001b[39;49m(a)) \u001b[39m#error\u001b[39;00m\n",
      "\u001b[0;31mValueError\u001b[0m: invalid literal for int() with base 10: 'hello'"
     ]
    }
   ],
   "source": [
    "#changing type of variable (casting)\n",
    "a = True\n",
    "print(int(a)) #1\n",
    "a = 3.4\n",
    "print(int(a))\n",
    "a = \"3\"\n",
    "print(int(a))\n",
    "a = \"hello\"\n",
    "print(int(a)) #error"
   ]
  },
  {
   "cell_type": "code",
   "execution_count": 1,
   "metadata": {},
   "outputs": [
    {
     "name": "stdout",
     "output_type": "stream",
     "text": [
      "<class 'bool'>\n",
      "<class 'int'>\n",
      "<class 'float'>\n",
      "<class 'str'>\n"
     ]
    }
   ],
   "source": [
    "# get type of variable\n",
    "a = True\n",
    "print(type(a))\n",
    "a = 1\n",
    "print(type(a))\n",
    "a = 1.0\n",
    "print(type(a))\n",
    "a = \"1\"\n",
    "print(type(a))\n",
    "# Variable names are case-sensitive"
   ]
  },
  {
   "cell_type": "code",
   "execution_count": null,
   "metadata": {},
   "outputs": [],
   "source": [
    "# 75\n",
    "# 9\n",
    "# #72\n",
    "# quotient = 8\n",
    "# reminader = 3"
   ]
  },
  {
   "cell_type": "code",
   "execution_count": null,
   "metadata": {},
   "outputs": [],
   "source": [
    "a = 32\n",
    "b = 7\n",
    "# + - * / %\n",
    "print(a%b)"
   ]
  },
  {
   "cell_type": "code",
   "execution_count": 5,
   "metadata": {},
   "outputs": [
    {
     "name": "stdout",
     "output_type": "stream",
     "text": [
      "Hello\n",
      "Hello\n",
      "line 1\n",
      "line 2\n"
     ]
    }
   ],
   "source": [
    "#PYTHON STRINGS\n",
    "print(\"\"\"line 1\n",
    "line 2\"\"\")"
   ]
  },
  {
   "cell_type": "code",
   "execution_count": null,
   "metadata": {},
   "outputs": [],
   "source": [
    "a = \"TANMAY\"\n",
    "#0 1 2 3 4 5\n",
    "print(a[4])\n",
    "print(len(a))"
   ]
  }
 ],
 "metadata": {
  "kernelspec": {
   "display_name": "Python 3",
   "language": "python",
   "name": "python3"
  },
  "language_info": {
   "codemirror_mode": {
    "name": "ipython",
    "version": 3
   },
   "file_extension": ".py",
   "mimetype": "text/x-python",
   "name": "python",
   "nbconvert_exporter": "python",
   "pygments_lexer": "ipython3",
   "version": "3.10.12"
  }
 },
 "nbformat": 4,
 "nbformat_minor": 2
}

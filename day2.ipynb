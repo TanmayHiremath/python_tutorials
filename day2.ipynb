{
 "cells": [
  {
   "cell_type": "code",
   "execution_count": 1,
   "metadata": {},
   "outputs": [
    {
     "name": "stdout",
     "output_type": "stream",
     "text": [
      "T\n",
      "A\n",
      "N\n",
      "M\n",
      "A\n",
      "Y\n",
      "H\n",
      "I\n",
      "R\n",
      "E\n",
      "M\n",
      "A\n",
      "T\n",
      "H\n"
     ]
    }
   ],
   "source": [
    "# looping through strings\n",
    "a = \"TANMAYHIREMATH\"\n",
    "for i in a:\n",
    "    print(i)"
   ]
  },
  {
   "cell_type": "code",
   "execution_count": 2,
   "metadata": {},
   "outputs": [
    {
     "name": "stdout",
     "output_type": "stream",
     "text": [
      "A\n",
      "B\n",
      "C\n",
      "D\n"
     ]
    }
   ],
   "source": [
    "# looping through strings\n",
    "a = [\"A\", \"B\", \"C\", \"D\"]\n",
    "for i in a:\n",
    "    print(i)"
   ]
  },
  {
   "cell_type": "code",
   "execution_count": 3,
   "metadata": {},
   "outputs": [
    {
     "name": "stdout",
     "output_type": "stream",
     "text": [
      "True\n"
     ]
    }
   ],
   "source": [
    "a = [\"A\", \"B\", \"C\", \"D\", \"A\", \"F\", \"G\", \"H\"]\n",
    "#print the third element\n",
    "# print(a[2])\n",
    "# print(len(a))\n",
    "# use of in keyword\n",
    "exists = \"F\" in a\n",
    "print(exists)\n",
    "# if \"A\" in a:\n",
    "#     print(\"A exists\")\n",
    "# else:\n",
    "#     print(\"A does not exist\")\n",
    "\n",
    "# txt = \"The best things in life are free!\"\n",
    "# print(\"free\" in txt)\n",
    "\n",
    "# not_exists = \"A\" not in a\n",
    "# print(not_exists)"
   ]
  },
  {
   "cell_type": "code",
   "execution_count": 5,
   "metadata": {},
   "outputs": [
    {
     "name": "stdout",
     "output_type": "stream",
     "text": [
      "tanmay\n",
      "rushda\n",
      "ansari\n"
     ]
    }
   ],
   "source": [
    "# string slicing\n",
    "# a=\"i love you\"\n",
    "#a,b then a is included, b is not included\n",
    "# print(a[2:6])\n",
    "# b = \"my name is rushda ansari\"\n",
    "# b.index(\"r\")\n",
    "# print(b[11:17])\n",
    "\n",
    "# c = \"tanmay\"\n",
    "# c.index(\"y\")\n",
    "# print(c)\n",
    "\n",
    "names = [\"1. tanmay\", \"2. rushda\", \"3. ansari\"]\n",
    "for i in names:\n",
    "    print(i[3:])"
   ]
  },
  {
   "cell_type": "code",
   "execution_count": 36,
   "metadata": {},
   "outputs": [
    {
     "name": "stdout",
     "output_type": "stream",
     "text": [
      "1.\n"
     ]
    }
   ],
   "source": [
    "a = \"1. tanmay\"\n",
    "print(a[:2])"
   ]
  },
  {
   "cell_type": "code",
   "execution_count": 54,
   "metadata": {},
   "outputs": [
    {
     "name": "stdout",
     "output_type": "stream",
     "text": [
      "['a.b.c', 'd']\n"
     ]
    }
   ],
   "source": [
    "#remember these functions\n",
    "# a = \"tanmay HIREMATH\"\n",
    "# print(a.upper())\n",
    "# print(a.lower())\n",
    "# print(a.capitalize())\n",
    "\n",
    "# b = \" rushda ansari  \"\n",
    "# print(b.strip())\n",
    "# print(b.replace(\"r\", \"R\"))\n",
    "\n",
    "# c = \"my name is rushda ansari\"\n",
    "c = \"a.b.c,d\"\n",
    "# to convert string to list\n",
    "print(c.split(\",\"))"
   ]
  },
  {
   "cell_type": "code",
   "execution_count": 55,
   "metadata": {},
   "outputs": [
    {
     "name": "stdout",
     "output_type": "stream",
     "text": [
      "tanmayhiremath\n"
     ]
    }
   ],
   "source": [
    "a = \"tanmay\"\n",
    "b = \"hiremath\"\n",
    "print(a+b)"
   ]
  },
  {
   "cell_type": "code",
   "execution_count": null,
   "metadata": {},
   "outputs": [],
   "source": [
    "# len(str)\n",
    "# len(list)\n",
    "# str.upper()"
   ]
  },
  {
   "cell_type": "code",
   "execution_count": 44,
   "metadata": {},
   "outputs": [
    {
     "name": "stdout",
     "output_type": "stream",
     "text": [
      "False\n"
     ]
    }
   ],
   "source": [
    "a = \"rushdaansari\"\n",
    "b = \"rushda ansari\"\n",
    "print(a==b.strip())\n",
    "# strip is only for start and end spaces"
   ]
  }
 ],
 "metadata": {
  "kernelspec": {
   "display_name": "Python 3",
   "language": "python",
   "name": "python3"
  },
  "language_info": {
   "codemirror_mode": {
    "name": "ipython",
    "version": 3
   },
   "file_extension": ".py",
   "mimetype": "text/x-python",
   "name": "python",
   "nbconvert_exporter": "python",
   "pygments_lexer": "ipython3",
   "version": "3.10.12"
  }
 },
 "nbformat": 4,
 "nbformat_minor": 2
}

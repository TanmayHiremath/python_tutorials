{
 "cells": [
  {
   "cell_type": "code",
   "execution_count": 7,
   "metadata": {},
   "outputs": [
    {
     "name": "stdout",
     "output_type": "stream",
     "text": [
      "My age is 45\n"
     ]
    }
   ],
   "source": [
    "# a = \"My age is \"\n",
    "# age = 45\n",
    "# # example45\n",
    "# c = a+str(age)\n",
    "# print(c)\n",
    "#ditch"
   ]
  },
  {
   "cell_type": "code",
   "execution_count": 11,
   "metadata": {},
   "outputs": [
    {
     "data": {
      "text/plain": [
       "'My age is 45 and name is Raj'"
      ]
     },
     "execution_count": 11,
     "metadata": {},
     "output_type": "execute_result"
    }
   ],
   "source": [
    "# age = 45\n",
    "# name = \"Raj\"\n",
    "# text = \"My age is {} and name is {}\".format(age, name)\n",
    "# text\n",
    "#ditch"
   ]
  },
  {
   "cell_type": "code",
   "execution_count": 13,
   "metadata": {},
   "outputs": [
    {
     "data": {
      "text/plain": [
       "'My age is 45 and name is Raj'"
      ]
     },
     "execution_count": 13,
     "metadata": {},
     "output_type": "execute_result"
    }
   ],
   "source": [
    "# f string\n",
    "age = 45\n",
    "name = \"Raj\"\n",
    "text = f\"My age is {age} and name is {name}\"\n",
    "text\n",
    "#use this syntax"
   ]
  },
  {
   "cell_type": "code",
   "execution_count": 14,
   "metadata": {},
   "outputs": [
    {
     "name": "stdout",
     "output_type": "stream",
     "text": [
      "My name is Rushda ansari and my fav color is blue\n"
     ]
    }
   ],
   "source": [
    "first_name = \"Rushda\"\n",
    "last_name = \"ansari\"\n",
    "fav_color = \"blue\"\n",
    "# My name is Rushda ansari and my fav color is blue\n",
    "print(f\"My name is {first_name} {last_name} and my fav color is {fav_color}\")\n"
   ]
  },
  {
   "cell_type": "code",
   "execution_count": 16,
   "metadata": {},
   "outputs": [
    {
     "name": "stdout",
     "output_type": "stream",
     "text": [
      "line 1 \n",
      "line 2\n"
     ]
    }
   ],
   "source": [
    "print(\"line 1 /n \\nline 2\")"
   ]
  },
  {
   "cell_type": "code",
   "execution_count": 18,
   "metadata": {},
   "outputs": [
    {
     "name": "stdout",
     "output_type": "stream",
     "text": [
      "False\n",
      "True\n",
      "False\n",
      "True\n"
     ]
    }
   ],
   "source": [
    "a = True\n",
    "b = False\n",
    "print(a and b)\n",
    "print(a or b)\n",
    "print(not a)\n",
    "print(not ( a and b))"
   ]
  },
  {
   "cell_type": "code",
   "execution_count": 19,
   "metadata": {},
   "outputs": [
    {
     "name": "stdout",
     "output_type": "stream",
     "text": [
      "8\n"
     ]
    }
   ],
   "source": [
    "# operators\n",
    "# print(2**3) # 2 to the power of 3\n",
    "# print(15%2) # 1\n",
    "# print(15%4) # remainder 3\n",
    "print(17%4) # remainder 1"
   ]
  },
  {
   "cell_type": "markdown",
   "metadata": {},
   "source": [
    "# PYTHON LISTS"
   ]
  },
  {
   "cell_type": "code",
   "execution_count": 3,
   "metadata": {},
   "outputs": [
    {
     "name": "stdout",
     "output_type": "stream",
     "text": [
      "['apple', 'kiwi', 'cherry', 'mango', 'litchi']\n",
      "['apple', 'kiwi', 'cherry', 'mango', 'litchi', 'banana']\n",
      "['apple', 'orange', 'kiwi', 'cherry', 'mango', 'litchi', 'banana']\n"
     ]
    }
   ],
   "source": [
    "list1 = [\"apple\", \"banana\", \"cherry\", \"mango\", \"litchi\"]\n",
    "# print(list1[1])\n",
    "# print(list1[1:])\n",
    "# print(list1[:4])\n",
    "# print(list1[-1]) # to access last element of list\n",
    "list1[1] = \"kiwi\" # modify the second element of list from banana to kiwi, = is assignment operator, it assigns right wala value to left\n",
    "print(list1)\n",
    "list1.append(\"banana\") # add banana to the end of the list\n",
    "print(list1)\n",
    "# list1.insert(1, \"orange\") # insert orange at index 1\n",
    "# print(list1)\n"
   ]
  },
  {
   "cell_type": "code",
   "execution_count": 2,
   "metadata": {},
   "outputs": [
    {
     "name": "stdout",
     "output_type": "stream",
     "text": [
      "[4, 5, 6, 7, 8, 9, 10]\n"
     ]
    }
   ],
   "source": [
    "# example question\n",
    "results = [1,2,4,5,3,6,7,8,9,10]\n",
    "filtered_results = []\n",
    "# append all elements of list a which are greater than 3 to results list\n",
    "for i in results:\n",
    "    if i>3:\n",
    "        filtered_results.append(i)\n",
    "print(filtered_results)\n"
   ]
  },
  {
   "cell_type": "code",
   "execution_count": 3,
   "metadata": {},
   "outputs": [],
   "source": [
    "a= \"hello\""
   ]
  },
  {
   "cell_type": "markdown",
   "metadata": {},
   "source": [
    "use round bracket with functions eg list.append(\"apple\") \n",
    "\n",
    "use square bracket for accessing elements of list, string etc. eg print(list[1])"
   ]
  },
  {
   "cell_type": "code",
   "execution_count": 8,
   "metadata": {},
   "outputs": [
    {
     "name": "stdout",
     "output_type": "stream",
     "text": [
      "['apple', 'cherry']\n",
      "['cherry']\n"
     ]
    }
   ],
   "source": [
    "thislist = [\"apple\", \"banana\", \"cherry\"]\n",
    "thislist.remove(\"banana\")\n",
    "print(thislist)\n",
    "thislist.pop(0)\n",
    "print(thislist)"
   ]
  },
  {
   "cell_type": "code",
   "execution_count": 14,
   "metadata": {},
   "outputs": [
    {
     "name": "stdout",
     "output_type": "stream",
     "text": [
      "0\n",
      "1\n",
      "2\n",
      "3\n",
      "4\n"
     ]
    }
   ],
   "source": [
    "a = range(5)\n",
    "a = [0,1,2,3,4]\n",
    "# print(type(a))\n",
    "for i in a:\n",
    "    print(i)"
   ]
  },
  {
   "cell_type": "code",
   "execution_count": 21,
   "metadata": {},
   "outputs": [
    {
     "name": "stdout",
     "output_type": "stream",
     "text": [
      "rushda\n",
      "rushda\n",
      "rushda\n",
      "rushda\n",
      "rushda\n",
      "rushda\n",
      "rushda\n",
      "rushda\n",
      "rushda\n",
      "rushda\n"
     ]
    }
   ],
   "source": [
    "# print your name 10 times\n",
    "a = \"rushda\"\n",
    "for i in range(10):\n",
    "    print(a)"
   ]
  },
  {
   "cell_type": "code",
   "execution_count": 22,
   "metadata": {},
   "outputs": [
    {
     "name": "stdout",
     "output_type": "stream",
     "text": [
      "20\n",
      "22\n",
      "24\n",
      "26\n",
      "28\n",
      "30\n",
      "32\n",
      "34\n",
      "36\n",
      "38\n",
      "40\n"
     ]
    }
   ],
   "source": [
    "#PRINT ALL EVEN NUMBERS FROM 19 TO 41\n",
    "for i in range(19,42):\n",
    "    if i%2==0:\n",
    "        print(i)"
   ]
  },
  {
   "cell_type": "code",
   "execution_count": 28,
   "metadata": {},
   "outputs": [
    {
     "name": "stdout",
     "output_type": "stream",
     "text": [
      "apple\n",
      "raspberry\n"
     ]
    }
   ],
   "source": [
    "a = [\"apple\", \"banana\", \"raspberry\", \"blueberry\"]\n",
    "#print all elements with even index\n",
    "for i in range(len(a)):\n",
    "    if i%2==0:\n",
    "        print(a[i])\n",
    "# for i in a:\n",
    "#     print(i)"
   ]
  },
  {
   "cell_type": "code",
   "execution_count": 32,
   "metadata": {},
   "outputs": [
    {
     "name": "stdout",
     "output_type": "stream",
     "text": [
      "10\n",
      "8\n",
      "6\n",
      "4\n",
      "2\n"
     ]
    }
   ],
   "source": [
    "# # print all numbers from 10 to 1 including both\n",
    "# for i in range(10,0,-1):\n",
    "#     # start_index, end_index, step\n",
    "#     print(i)\n",
    "# same Q even numbers\n",
    "for i in range(10,0,-2):\n",
    "    # start_index, end_index, step\n",
    "    print(i)"
   ]
  },
  {
   "cell_type": "code",
   "execution_count": 35,
   "metadata": {},
   "outputs": [
    {
     "name": "stdout",
     "output_type": "stream",
     "text": [
      "1\n",
      "2\n",
      "3\n",
      "4\n",
      "5\n",
      "6\n",
      "7\n",
      "8\n",
      "9\n",
      "10\n"
     ]
    }
   ],
   "source": [
    "# print all numbers from 10 to 1 including both\n",
    "# i = 10\n",
    "# # while is like a repeating if condition\n",
    "# # if condition:\n",
    "# #     do something\n",
    "# while i>0:\n",
    "#     print(i)\n",
    "#     i = i - 1\n",
    "\n",
    "i = 1 # start index\n",
    "while i<=10: # end index\n",
    "    print(i)\n",
    "    i = i + 1 # increment"
   ]
  },
  {
   "cell_type": "code",
   "execution_count": 39,
   "metadata": {},
   "outputs": [
    {
     "name": "stdout",
     "output_type": "stream",
     "text": [
      "apple\n",
      "banana\n",
      "raspberry\n",
      "blueberry\n"
     ]
    }
   ],
   "source": [
    "# print all the elements of the list using while loop\n",
    "fruits = [\"apple\", \"banana\", \"raspberry\", \"blueberry\"]\n",
    "i = 0\n",
    "while i<=3:\n",
    "    print(fruits[i])\n",
    "    i = i + 1"
   ]
  }
 ],
 "metadata": {
  "kernelspec": {
   "display_name": "Python 3",
   "language": "python",
   "name": "python3"
  },
  "language_info": {
   "codemirror_mode": {
    "name": "ipython",
    "version": 3
   },
   "file_extension": ".py",
   "mimetype": "text/x-python",
   "name": "python",
   "nbconvert_exporter": "python",
   "pygments_lexer": "ipython3",
   "version": "3.8.10"
  }
 },
 "nbformat": 4,
 "nbformat_minor": 2
}

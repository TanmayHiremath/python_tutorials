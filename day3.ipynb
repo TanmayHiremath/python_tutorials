{
 "cells": [
  {
   "cell_type": "code",
   "execution_count": 7,
   "metadata": {},
   "outputs": [
    {
     "name": "stdout",
     "output_type": "stream",
     "text": [
      "My age is 45\n"
     ]
    }
   ],
   "source": [
    "# a = \"My age is \"\n",
    "# age = 45\n",
    "# # example45\n",
    "# c = a+str(age)\n",
    "# print(c)\n",
    "#ditch"
   ]
  },
  {
   "cell_type": "code",
   "execution_count": 11,
   "metadata": {},
   "outputs": [
    {
     "data": {
      "text/plain": [
       "'My age is 45 and name is Raj'"
      ]
     },
     "execution_count": 11,
     "metadata": {},
     "output_type": "execute_result"
    }
   ],
   "source": [
    "# age = 45\n",
    "# name = \"Raj\"\n",
    "# text = \"My age is {} and name is {}\".format(age, name)\n",
    "# text\n",
    "#ditch"
   ]
  },
  {
   "cell_type": "code",
   "execution_count": 13,
   "metadata": {},
   "outputs": [
    {
     "data": {
      "text/plain": [
       "'My age is 45 and name is Raj'"
      ]
     },
     "execution_count": 13,
     "metadata": {},
     "output_type": "execute_result"
    }
   ],
   "source": [
    "age = 45\n",
    "name = \"Raj\"\n",
    "text = f\"My age is {age} and name is {name}\"\n",
    "text\n",
    "#use this syntax"
   ]
  },
  {
   "cell_type": "code",
   "execution_count": 14,
   "metadata": {},
   "outputs": [
    {
     "name": "stdout",
     "output_type": "stream",
     "text": [
      "My name is Rushda ansari and my fav color is blue\n"
     ]
    }
   ],
   "source": [
    "first_name = \"Rushda\"\n",
    "last_name = \"ansari\"\n",
    "fav_color = \"blue\"\n",
    "# My name is Rushda ansari and my fav color is blue\n",
    "print(f\"My name is {first_name} {last_name} and my fav color is {fav_color}\")\n"
   ]
  },
  {
   "cell_type": "code",
   "execution_count": 16,
   "metadata": {},
   "outputs": [
    {
     "name": "stdout",
     "output_type": "stream",
     "text": [
      "line 1 \n",
      "line 2\n"
     ]
    }
   ],
   "source": [
    "print(\"line 1 /n \\nline 2\")"
   ]
  },
  {
   "cell_type": "code",
   "execution_count": 18,
   "metadata": {},
   "outputs": [
    {
     "name": "stdout",
     "output_type": "stream",
     "text": [
      "False\n",
      "True\n",
      "False\n",
      "True\n"
     ]
    }
   ],
   "source": [
    "a = True\n",
    "b = False\n",
    "print(a and b)\n",
    "print(a or b)\n",
    "print(not a)\n",
    "print(not ( a and b))"
   ]
  },
  {
   "cell_type": "code",
   "execution_count": 19,
   "metadata": {},
   "outputs": [
    {
     "name": "stdout",
     "output_type": "stream",
     "text": [
      "8\n"
     ]
    }
   ],
   "source": [
    "# operators\n",
    "# print(2**3) # 2 to the power of 3\n",
    "# print(15%2) # 1\n",
    "# print(15%4) # remainder 3\n",
    "print(17%4) # remainder 1"
   ]
  },
  {
   "cell_type": "markdown",
   "metadata": {},
   "source": [
    "# PYTHON LISTS"
   ]
  },
  {
   "cell_type": "code",
   "execution_count": 3,
   "metadata": {},
   "outputs": [
    {
     "name": "stdout",
     "output_type": "stream",
     "text": [
      "['apple', 'kiwi', 'cherry', 'mango', 'litchi']\n",
      "['apple', 'kiwi', 'cherry', 'mango', 'litchi', 'banana']\n",
      "['apple', 'orange', 'kiwi', 'cherry', 'mango', 'litchi', 'banana']\n"
     ]
    }
   ],
   "source": [
    "list1 = [\"apple\", \"banana\", \"cherry\", \"mango\", \"litchi\"]\n",
    "# print(list1[1])\n",
    "# print(list1[1:])\n",
    "# print(list1[:4])\n",
    "# print(list1[-1]) # to access last element of list\n",
    "list1[1] = \"kiwi\" # modify the second element of list from banana to kiwi\n",
    "print(list1)\n",
    "list1.append(\"banana\") # add banana to the end of the list\n",
    "print(list1)\n",
    "list1.insert(1, \"orange\") # insert orange at index 1\n",
    "print(list1)\n"
   ]
  },
  {
   "cell_type": "code",
   "execution_count": null,
   "metadata": {},
   "outputs": [],
   "source": []
  }
 ],
 "metadata": {
  "kernelspec": {
   "display_name": "Python 3",
   "language": "python",
   "name": "python3"
  },
  "language_info": {
   "codemirror_mode": {
    "name": "ipython",
    "version": 3
   },
   "file_extension": ".py",
   "mimetype": "text/x-python",
   "name": "python",
   "nbconvert_exporter": "python",
   "pygments_lexer": "ipython3",
   "version": "3.8.10"
  }
 },
 "nbformat": 4,
 "nbformat_minor": 2
}

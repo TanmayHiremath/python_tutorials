{
 "cells": [
  {
   "cell_type": "code",
   "execution_count": null,
   "metadata": {},
   "outputs": [],
   "source": [
    "#write a function to calculate the square of a number\n",
    "def square(a=5):\n",
    "    return a**2\n",
    "output = square(7)\n",
    "print(output)\n",
    "\n",
    "output = square()\n",
    "print(output)\n"
   ]
  },
  {
   "cell_type": "code",
   "execution_count": 4,
   "metadata": {},
   "outputs": [
    {
     "name": "stdout",
     "output_type": "stream",
     "text": [
      "4 8 1 0 6\n"
     ]
    },
    {
     "data": {
      "text/plain": [
       "19"
      ]
     },
     "execution_count": 4,
     "metadata": {},
     "output_type": "execute_result"
    }
   ],
   "source": [
    "def myfunc(e,b=7,a=4,c=1,d=0):\n",
    "    print(a,b,c,d,e)\n",
    "    return a+b+c+d+e\n",
    "myfunc(6,8)\n",
    "myfunc(6,7)\n",
    "myfunc(6,9)"
   ]
  },
  {
   "cell_type": "code",
   "execution_count": 7,
   "metadata": {},
   "outputs": [
    {
     "name": "stdout",
     "output_type": "stream",
     "text": [
      "1 2 4 5\n"
     ]
    },
    {
     "data": {
      "text/plain": [
       "12"
      ]
     },
     "execution_count": 7,
     "metadata": {},
     "output_type": "execute_result"
    }
   ],
   "source": [
    "def myfunc(a,b,c,d):\n",
    "    print(a,b,c,d)\n",
    "    return a+b+c+d\n",
    "myfunc(1,2,d=5,c=4)"
   ]
  },
  {
   "cell_type": "code",
   "execution_count": 12,
   "metadata": {},
   "outputs": [
    {
     "name": "stdout",
     "output_type": "stream",
     "text": [
      "Emil joanes\n"
     ]
    }
   ],
   "source": [
    "def my_function(fname, lname=\"joanes\"):\n",
    "  print(fname + \" \" + lname)\n",
    "\n",
    "# my_function(fname=\"Emil\", lname=\"Joanes\")\n",
    "my_function(fname=\"Emil\")"
   ]
  },
  {
   "cell_type": "code",
   "execution_count": 22,
   "metadata": {},
   "outputs": [
    {
     "name": "stdout",
     "output_type": "stream",
     "text": [
      "(1, 2, 3, 4, 5)\n",
      "(7.2, 4, 5)\n"
     ]
    },
    {
     "data": {
      "text/plain": [
       "16.2"
      ]
     },
     "execution_count": 22,
     "metadata": {},
     "output_type": "execute_result"
    }
   ],
   "source": [
    "def add(*myargs): # use this syntax when you don't know number of arguments, it gives the arguments as a tuple( basically a list)\n",
    "    print(myargs)\n",
    "    sum = 0\n",
    "    for i in myargs:\n",
    "        sum = sum + i\n",
    "    return sum\n",
    "\n",
    "\n",
    "\n",
    "add(1,2,3,4,5)\n",
    "add(7.2,4,5)"
   ]
  },
  {
   "cell_type": "code",
   "execution_count": 29,
   "metadata": {},
   "outputs": [
    {
     "name": "stdout",
     "output_type": "stream",
     "text": [
      "{'a': 1, 'b': 2}\n"
     ]
    },
    {
     "data": {
      "text/plain": [
       "0"
      ]
     },
     "execution_count": 29,
     "metadata": {},
     "output_type": "execute_result"
    }
   ],
   "source": [
    "def add(**args): # use this syntax when you don't know number of arguments, it gives the arguments as a tuple( basically a list)\n",
    "    print(args)\n",
    "    return 0\n",
    "add(a=1,b=2)"
   ]
  },
  {
   "cell_type": "code",
   "execution_count": 30,
   "metadata": {},
   "outputs": [
    {
     "name": "stdout",
     "output_type": "stream",
     "text": [
      "(1, 2) {'a': 3, 'b': 4}\n"
     ]
    },
    {
     "data": {
      "text/plain": [
       "0"
      ]
     },
     "execution_count": 30,
     "metadata": {},
     "output_type": "execute_result"
    }
   ],
   "source": [
    "def add(*args, **kwargs): # use this syntax when you don't know number of keyword arguments, it gives the arguments as a dictionary( key value pairs)\n",
    "    print(args, kwargs)\n",
    "    return 0\n",
    "add(1,2,a=3,b=4)"
   ]
  }
 ],
 "metadata": {
  "kernelspec": {
   "display_name": "Python 3",
   "language": "python",
   "name": "python3"
  },
  "language_info": {
   "codemirror_mode": {
    "name": "ipython",
    "version": 3
   },
   "file_extension": ".py",
   "mimetype": "text/x-python",
   "name": "python",
   "nbconvert_exporter": "python",
   "pygments_lexer": "ipython3",
   "version": "3.10.12"
  }
 },
 "nbformat": 4,
 "nbformat_minor": 2
}
